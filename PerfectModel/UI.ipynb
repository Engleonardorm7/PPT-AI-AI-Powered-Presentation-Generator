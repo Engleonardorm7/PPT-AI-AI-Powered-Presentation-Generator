{
 "cells": [
  {
   "cell_type": "code",
   "execution_count": 1,
   "id": "132c5ff3-e1ac-4a38-849e-68eacb4cff8f",
   "metadata": {},
   "outputs": [
    {
     "name": "stdout",
     "output_type": "stream",
     "text": [
      "Directorio de trabajo actual: /home/jovyan/2nd semester/PP Model/PerfectModel\n"
     ]
    }
   ],
   "source": [
    "import os\n",
    "\n",
    "# Cambiar al nuevo directorio donde moviste los archivos\n",
    "new_path = \"/home/jovyan/2nd semester/PP Model/PerfectModel\"\n",
    "os.chdir(new_path)\n",
    "\n",
    "# # Verificar que el directorio se cambió correctamente\n",
    "print(\"Directorio de trabajo actual:\", os.getcwd())"
   ]
  },
  {
   "cell_type": "code",
   "execution_count": 2,
   "id": "3a928e94-0e8f-4dc8-a628-a9abbbc18b18",
   "metadata": {},
   "outputs": [],
   "source": [
    "!pip install reportlab pillow -q #used for the visualization of the PPfiles\n",
    "!pip install pdf2image -q #used to convert pdf to images\n"
   ]
  },
  {
   "cell_type": "code",
   "execution_count": 3,
   "id": "fc268f13-47dc-4352-bf7c-443597b27add",
   "metadata": {},
   "outputs": [
    {
     "name": "stdout",
     "output_type": "stream",
     "text": [
      "\u001b[31mERROR: pip's dependency resolver does not currently take into account all the packages that are installed. This behaviour is the source of the following dependency conflicts.\n",
      "torchaudio 2.1.0+cu118 requires torch==2.1.0, but you have torch 2.6.0 which is incompatible.\u001b[0m\u001b[31m\n",
      "\u001b[0mFound existing installation: unsloth 2025.2.5\n",
      "Uninstalling unsloth-2025.2.5:\n",
      "  Successfully uninstalled unsloth-2025.2.5\n"
     ]
    }
   ],
   "source": [
    "!pip install unsloth -q\n",
    "# Also get the latest nightly Unsloth!\n",
    "!pip uninstall unsloth -y && pip install --upgrade --no-cache-dir --no-deps git+https://github.com/unslothai/unsloth.git -q"
   ]
  },
  {
   "cell_type": "code",
   "execution_count": 4,
   "id": "cbdf7d79-f46a-4574-9f3e-ce3e84d7b117",
   "metadata": {},
   "outputs": [
    {
     "name": "stdout",
     "output_type": "stream",
     "text": [
      "\n",
      "Usage:   \n",
      "  pip install [options] <requirement specifier> [package-index-options] ...\n",
      "  pip install [options] -r <requirements file> [package-index-options] ...\n",
      "  pip install [options] [-e] <vcs project url> ...\n",
      "  pip install [options] [-e] <local project path> ...\n",
      "  pip install [options] <archive url/path> ...\n",
      "\n",
      "no such option: -y\n"
     ]
    }
   ],
   "source": [
    "!pip -q install huggingface_hub diffusers transformers -y \n",
    "!pip install --upgrade diffusers transformers accelerate -q"
   ]
  },
  {
   "cell_type": "code",
   "execution_count": 5,
   "id": "f84b352f-0a55-4757-96ac-a906b0291b31",
   "metadata": {},
   "outputs": [],
   "source": [
    "!pip install streamlit -q\n",
    "!pip install ipython -q\n",
    "!pip install streamlit python-pptx -q\n",
    "!pip install pyngrok -q"
   ]
  },
  {
   "cell_type": "code",
   "execution_count": 6,
   "id": "767c3c08-365f-4af1-be35-d18940314817",
   "metadata": {},
   "outputs": [
    {
     "name": "stdout",
     "output_type": "stream",
     "text": [
      "La API es accesible públicamente en: NgrokTunnel: \"https://8485-194-95-61-252.ngrok-free.app\" -> \"http://localhost:7860\"\n"
     ]
    }
   ],
   "source": [
    "\n",
    "from pyngrok import ngrok\n",
    "\n",
    "# Crear un túnel HTTP\n",
    "public_url = ngrok.connect(7860)\n",
    "print(f\"La API es accesible públicamente en: {public_url}\")"
   ]
  },
  {
   "cell_type": "code",
   "execution_count": 7,
   "id": "780efe1c-1a10-4835-ab1d-164025c31f35",
   "metadata": {},
   "outputs": [],
   "source": [
    "# !ngrok http 7860\n"
   ]
  },
  {
   "cell_type": "code",
   "execution_count": 8,
   "id": "6dce41e1-ad97-4459-b781-2f4d116a67c8",
   "metadata": {},
   "outputs": [
    {
     "name": "stderr",
     "output_type": "stream",
     "text": [
      "2025-02-08 14:41:13.516 WARNING streamlit.runtime.scriptrunner_utils.script_run_context: Thread 'MainThread': missing ScriptRunContext! This warning can be ignored when running in bare mode.\n",
      "2025-02-08 14:41:13.516 WARNING streamlit.runtime.scriptrunner_utils.script_run_context: Thread 'MainThread': missing ScriptRunContext! This warning can be ignored when running in bare mode.\n",
      "2025-02-08 14:41:13.590 \n",
      "  \u001b[33m\u001b[1mWarning:\u001b[0m to view this Streamlit app on a browser, run it with the following\n",
      "  command:\n",
      "\n",
      "    streamlit run /opt/conda/lib/python3.10/site-packages/ipykernel_launcher.py [ARGUMENTS]\n",
      "2025-02-08 14:41:13.590 Thread 'MainThread': missing ScriptRunContext! This warning can be ignored when running in bare mode.\n",
      "2025-02-08 14:41:13.591 Thread 'MainThread': missing ScriptRunContext! This warning can be ignored when running in bare mode.\n",
      "2025-02-08 14:41:13.591 Thread 'MainThread': missing ScriptRunContext! This warning can be ignored when running in bare mode.\n",
      "2025-02-08 14:41:16.154 Thread 'MainThread': missing ScriptRunContext! This warning can be ignored when running in bare mode.\n",
      "2025-02-08 14:41:16.163 Thread 'MainThread': missing ScriptRunContext! This warning can be ignored when running in bare mode.\n",
      "2025-02-08 14:41:16.164 Thread 'MainThread': missing ScriptRunContext! This warning can be ignored when running in bare mode.\n",
      "2025-02-08 14:41:16.164 Thread 'MainThread': missing ScriptRunContext! This warning can be ignored when running in bare mode.\n",
      "2025-02-08 14:41:16.665 Thread 'Thread-6': missing ScriptRunContext! This warning can be ignored when running in bare mode.\n",
      "2025-02-08 14:41:16.666 Thread 'Thread-6': missing ScriptRunContext! This warning can be ignored when running in bare mode.\n"
     ]
    },
    {
     "data": {
      "application/vnd.jupyter.widget-view+json": {
       "model_id": "cfed54007cc64398b32de849ec03e926",
       "version_major": 2,
       "version_minor": 0
      },
      "text/plain": [
       "config.json:   0%|          | 0.00/1.34k [00:00<?, ?B/s]"
      ]
     },
     "metadata": {},
     "output_type": "display_data"
    },
    {
     "name": "stderr",
     "output_type": "stream",
     "text": [
      "Unused kwargs: ['_load_in_4bit', '_load_in_8bit', 'quant_method']. These kwargs are not used in <class 'transformers.utils.quantization_config.BitsAndBytesConfig'>.\n",
      "`low_cpu_mem_usage` was None, now default to True since model is quantized.\n"
     ]
    },
    {
     "data": {
      "application/vnd.jupyter.widget-view+json": {
       "model_id": "144952b95caa4f0f8abf97ad934dc47c",
       "version_major": 2,
       "version_minor": 0
      },
      "text/plain": [
       "generation_config.json:   0%|          | 0.00/271 [00:00<?, ?B/s]"
      ]
     },
     "metadata": {},
     "output_type": "display_data"
    },
    {
     "name": "stderr",
     "output_type": "stream",
     "text": [
      "2025-02-08 14:41:35.580 Thread 'MainThread': missing ScriptRunContext! This warning can be ignored when running in bare mode.\n",
      "2025-02-08 14:41:35.581 Thread 'MainThread': missing ScriptRunContext! This warning can be ignored when running in bare mode.\n",
      "2025-02-08 14:41:35.582 Thread 'MainThread': missing ScriptRunContext! This warning can be ignored when running in bare mode.\n",
      "2025-02-08 14:41:35.582 Thread 'MainThread': missing ScriptRunContext! This warning can be ignored when running in bare mode.\n",
      "2025-02-08 14:41:35.582 Thread 'MainThread': missing ScriptRunContext! This warning can be ignored when running in bare mode.\n",
      "2025-02-08 14:41:35.583 Thread 'MainThread': missing ScriptRunContext! This warning can be ignored when running in bare mode.\n",
      "2025-02-08 14:41:35.583 Thread 'MainThread': missing ScriptRunContext! This warning can be ignored when running in bare mode.\n",
      "2025-02-08 14:41:35.583 Thread 'MainThread': missing ScriptRunContext! This warning can be ignored when running in bare mode.\n",
      "2025-02-08 14:41:35.584 Thread 'MainThread': missing ScriptRunContext! This warning can be ignored when running in bare mode.\n",
      "2025-02-08 14:41:35.584 Thread 'MainThread': missing ScriptRunContext! This warning can be ignored when running in bare mode.\n",
      "2025-02-08 14:41:35.584 Thread 'MainThread': missing ScriptRunContext! This warning can be ignored when running in bare mode.\n",
      "2025-02-08 14:41:35.584 Session state does not function when running a script without `streamlit run`\n",
      "2025-02-08 14:41:35.585 Thread 'MainThread': missing ScriptRunContext! This warning can be ignored when running in bare mode.\n",
      "2025-02-08 14:41:35.585 Thread 'MainThread': missing ScriptRunContext! This warning can be ignored when running in bare mode.\n",
      "2025-02-08 14:41:35.586 Thread 'MainThread': missing ScriptRunContext! This warning can be ignored when running in bare mode.\n",
      "2025-02-08 14:41:35.586 Thread 'MainThread': missing ScriptRunContext! This warning can be ignored when running in bare mode.\n",
      "2025-02-08 14:41:35.587 Thread 'MainThread': missing ScriptRunContext! This warning can be ignored when running in bare mode.\n",
      "2025-02-08 14:41:35.587 Thread 'MainThread': missing ScriptRunContext! This warning can be ignored when running in bare mode.\n",
      "2025-02-08 14:41:35.587 Thread 'MainThread': missing ScriptRunContext! This warning can be ignored when running in bare mode.\n",
      "2025-02-08 14:41:35.587 Thread 'MainThread': missing ScriptRunContext! This warning can be ignored when running in bare mode.\n"
     ]
    }
   ],
   "source": [
    "import streamlit as st\n",
    "import os\n",
    "\n",
    "# Establece el directorio de trabajo actual\n",
    "# Ejecuta la aplicación Streamlit\n",
    "st.set_page_config(page_title=\"Interfaz Gráfica Sencilla\")\n",
    "st.write(\"Loading app...\")\n",
    "exec(open(\"interface.py\").read())\n",
    "# exec(open(\"interface.py\").read())\n"
   ]
  },
  {
   "cell_type": "code",
   "execution_count": null,
   "id": "7e66680b-6dbd-4cd6-bfce-c20cab4c8422",
   "metadata": {},
   "outputs": [
    {
     "data": {
      "application/javascript": [
       "window.open('NgrokTunnel: \"https://8485-194-95-61-252.ngrok-free.app\" -> \"http://localhost:7860\"')"
      ],
      "text/plain": [
       "<IPython.core.display.Javascript object>"
      ]
     },
     "metadata": {},
     "output_type": "display_data"
    },
    {
     "name": "stdout",
     "output_type": "stream",
     "text": [
      "\n",
      "Collecting usage statistics. To deactivate, set browser.gatherUsageStats to false.\n",
      "\u001b[0m\n",
      "\u001b[0m\n",
      "\u001b[34m\u001b[1m  You can now view your Streamlit app in your browser.\u001b[0m\n",
      "\u001b[0m\n",
      "\u001b[34m  Local URL: \u001b[0m\u001b[1mhttp://localhost:7860\u001b[0m\n",
      "\u001b[34m  Network URL: \u001b[0m\u001b[1mhttp://10.211.0.123:7860\u001b[0m\n",
      "\u001b[34m  External URL: \u001b[0m\u001b[1mhttp://194.95.61.252:7860\u001b[0m\n",
      "\u001b[0m\n",
      "Unused kwargs: ['_load_in_4bit', '_load_in_8bit', 'quant_method']. These kwargs are not used in <class 'transformers.utils.quantization_config.BitsAndBytesConfig'>.\n",
      "`low_cpu_mem_usage` was None, now default to True since model is quantized.\n",
      "2025-02-08 14:42:01.822 Examining the path of torch.classes raised:\n",
      "Traceback (most recent call last):\n",
      "  File \"/opt/conda/lib/python3.10/site-packages/streamlit/watcher/local_sources_watcher.py\", line 217, in get_module_paths\n",
      "    potential_paths = extract_paths(module)\n",
      "  File \"/opt/conda/lib/python3.10/site-packages/streamlit/watcher/local_sources_watcher.py\", line 210, in <lambda>\n",
      "    lambda m: list(m.__path__._path),\n",
      "  File \"/opt/conda/lib/python3.10/site-packages/torch/_classes.py\", line 13, in __getattr__\n",
      "    proxy = torch._C._get_custom_class_python_wrapper(self.name, attr)\n",
      "RuntimeError: Tried to instantiate class '__path__._path', but it does not exist! Ensure that it is registered via torch::class_\n",
      "Presentation saved as 'presentation.pptx'\n",
      "2025-02-08 14:42:25.292 Examining the path of torch.classes raised:\n",
      "Traceback (most recent call last):\n",
      "  File \"/opt/conda/lib/python3.10/site-packages/streamlit/watcher/local_sources_watcher.py\", line 217, in get_module_paths\n",
      "    potential_paths = extract_paths(module)\n",
      "  File \"/opt/conda/lib/python3.10/site-packages/streamlit/watcher/local_sources_watcher.py\", line 210, in <lambda>\n",
      "    lambda m: list(m.__path__._path),\n",
      "  File \"/opt/conda/lib/python3.10/site-packages/torch/_classes.py\", line 13, in __getattr__\n",
      "    proxy = torch._C._get_custom_class_python_wrapper(self.name, attr)\n",
      "RuntimeError: Tried to instantiate class '__path__._path', but it does not exist! Ensure that it is registered via torch::class_\n",
      "Deleted presentation.pptx\n",
      "Error loading presentation: Package not found at 'presentation.pptx'\n",
      "Presentation saved as 'presentation.pptx'\n",
      "Presentation saved as 'presentation.pptx'\n",
      "Presentation saved as 'presentation.pptx'\n",
      "Presentation saved as 'presentation.pptx'\n",
      "2025-02-08 14:44:20.583 Uncaught app execution\n",
      "Traceback (most recent call last):\n",
      "  File \"/opt/conda/lib/python3.10/site-packages/requests/models.py\", line 974, in json\n",
      "    return complexjson.loads(self.text, **kwargs)\n",
      "  File \"/opt/conda/lib/python3.10/json/__init__.py\", line 346, in loads\n",
      "    return _default_decoder.decode(s)\n",
      "  File \"/opt/conda/lib/python3.10/json/decoder.py\", line 337, in decode\n",
      "    obj, end = self.raw_decode(s, idx=_w(s, 0).end())\n",
      "  File \"/opt/conda/lib/python3.10/json/decoder.py\", line 355, in raw_decode\n",
      "    raise JSONDecodeError(\"Expecting value\", s, err.value) from None\n",
      "json.decoder.JSONDecodeError: Expecting value: line 1 column 1 (char 0)\n",
      "\n",
      "During handling of the above exception, another exception occurred:\n",
      "\n",
      "Traceback (most recent call last):\n",
      "  File \"/opt/conda/lib/python3.10/site-packages/streamlit/runtime/scriptrunner/exec_code.py\", line 121, in exec_func_with_error_handling\n",
      "    result = func()\n",
      "  File \"/opt/conda/lib/python3.10/site-packages/streamlit/runtime/scriptrunner/script_runner.py\", line 591, in code_to_exec\n",
      "    exec(code, module.__dict__)\n",
      "  File \"/home/jovyan/2nd semester/PP Model/PerfectModel/interface.py\", line 345, in <module>\n",
      "    exec(tool_call_code)\n",
      "  File \"<string>\", line 2, in <module>\n",
      "  File \"/home/jovyan/2nd semester/PP Model/PerfectModel/API2.py\", line 667, in add_picture_with_caption\n",
      "    image_generated=generate_image(prompt)\n",
      "  File \"/home/jovyan/2nd semester/PP Model/PerfectModel/luisImageGen.py\", line 33, in generate_image\n",
      "    response_data = response.json()\n",
      "  File \"/opt/conda/lib/python3.10/site-packages/requests/models.py\", line 978, in json\n",
      "    raise RequestsJSONDecodeError(e.msg, e.doc, e.pos)\n",
      "requests.exceptions.JSONDecodeError: Expecting value: line 1 column 1 (char 0)\n",
      "Presentation saved as 'presentation.pptx'\n",
      "Imagen generada con éxito.\n",
      "Presentation saved as 'presentation.pptx'\n",
      "Deleted presentation.pptx\n",
      "Error loading presentation: Package not found at 'presentation.pptx'\n",
      "Error loading presentation: Package not found at 'presentation.pptx'\n",
      "Presentation saved as 'presentation.pptx'\n",
      "Deleted presentation.pptx\n",
      "Error loading presentation: Package not found at 'presentation.pptx'\n",
      "Error loading presentation: Package not found at 'presentation.pptx'\n",
      "Presentation saved as 'presentation.pptx'\n",
      "Presentation saved as 'presentation.pptx'\n",
      "Presentation saved as 'presentation.pptx'\n",
      "Imagen generada con éxito.\n",
      "Presentation saved as 'presentation.pptx'\n",
      "Presentation saved as 'presentation.pptx'\n",
      "2025-02-08 14:51:59.126 Uncaught app execution\n",
      "Traceback (most recent call last):\n",
      "  File \"/opt/conda/lib/python3.10/site-packages/streamlit/runtime/scriptrunner/exec_code.py\", line 121, in exec_func_with_error_handling\n",
      "    result = func()\n",
      "  File \"/opt/conda/lib/python3.10/site-packages/streamlit/runtime/scriptrunner/script_runner.py\", line 591, in code_to_exec\n",
      "    exec(code, module.__dict__)\n",
      "  File \"/home/jovyan/2nd semester/PP Model/PerfectModel/interface.py\", line 345, in <module>\n",
      "    exec(tool_call_code)\n",
      "  File \"<string>\", line 9, in <module>\n",
      "  File \"/home/jovyan/2nd semester/PP Model/PerfectModel/API2.py\", line 523, in add_bullet_points\n",
      "    p.level = level # Set bullet level\n",
      "  File \"/opt/conda/lib/python3.10/site-packages/pptx/text/text.py\", line 528, in level\n",
      "    self._pPr.lvl = level\n",
      "  File \"/opt/conda/lib/python3.10/site-packages/pptx/oxml/xmlchemy.py\", line 225, in set_attr_value\n",
      "    str_value = self._simple_type.to_xml(value)\n",
      "  File \"/opt/conda/lib/python3.10/site-packages/pptx/oxml/simpletypes.py\", line 26, in to_xml\n",
      "    cls.validate(value)\n",
      "  File \"/opt/conda/lib/python3.10/site-packages/pptx/oxml/simpletypes.py\", line 663, in validate\n",
      "    cls.validate_int_in_range(value, 0, 8)\n",
      "  File \"/opt/conda/lib/python3.10/site-packages/pptx/oxml/simpletypes.py\", line 54, in validate_int_in_range\n",
      "    raise ValueError(\n",
      "ValueError: value must be in range 0 to 8 inclusive, got 1962\n",
      "Presentation saved as 'presentation.pptx'\n",
      "Presentation saved as 'presentation.pptx'\n",
      "Presentation saved as 'presentation.pptx'\n",
      "Imagen generada con éxito.\n",
      "Presentation saved as 'presentation.pptx'\n",
      "Presentation saved as 'presentation.pptx'\n",
      "Presentation saved as 'presentation.pptx'\n",
      "Presentation saved as 'presentation.pptx'\n",
      "Deleted presentation.pptx\n",
      "Error loading presentation: Package not found at 'presentation.pptx'\n",
      "Error loading presentation: Package not found at 'presentation.pptx'\n",
      "Presentation saved as 'presentation.pptx'\n",
      "Presentation saved as 'presentation.pptx'\n",
      "Presentation saved as 'presentation.pptx'\n",
      "Imagen generada con éxito.\n",
      "Presentation saved as 'presentation.pptx'\n",
      "Presentation saved as 'presentation.pptx'\n",
      "Presentation saved as 'presentation.pptx'\n",
      "Presentation saved as 'presentation.pptx'\n",
      "Presentation saved as 'presentation.pptx'\n",
      "Presentation saved as 'presentation.pptx'\n",
      "Presentation saved as 'presentation.pptx'\n",
      "2025-02-08 14:56:45.812 Uncaught app execution\n",
      "Traceback (most recent call last):\n",
      "  File \"/opt/conda/lib/python3.10/site-packages/streamlit/runtime/scriptrunner/exec_code.py\", line 121, in exec_func_with_error_handling\n",
      "    result = func()\n",
      "  File \"/opt/conda/lib/python3.10/site-packages/streamlit/runtime/scriptrunner/script_runner.py\", line 591, in code_to_exec\n",
      "    exec(code, module.__dict__)\n",
      "  File \"/home/jovyan/2nd semester/PP Model/PerfectModel/interface.py\", line 345, in <module>\n",
      "    exec(tool_call_code)\n",
      "  File \"<string>\", line 2, in <module>\n",
      "  File \"/home/jovyan/2nd semester/PP Model/PerfectModel/API2.py\", line 516, in add_bullet_points\n",
      "    level = int(point_str[last_comma + 1:-1].strip())\n",
      "ValueError: invalid literal for int() with base 10: 'Satirical characters'\n",
      "Presentation saved as 'presentation.pptx'\n",
      "2025-02-08 14:56:53.334 Uncaught app execution\n",
      "Traceback (most recent call last):\n",
      "  File \"/opt/conda/lib/python3.10/site-packages/streamlit/runtime/scriptrunner/exec_code.py\", line 121, in exec_func_with_error_handling\n",
      "    result = func()\n",
      "  File \"/opt/conda/lib/python3.10/site-packages/streamlit/runtime/scriptrunner/script_runner.py\", line 591, in code_to_exec\n",
      "    exec(code, module.__dict__)\n",
      "  File \"/home/jovyan/2nd semester/PP Model/PerfectModel/interface.py\", line 345, in <module>\n",
      "    exec(tool_call_code)\n",
      "  File \"<string>\", line 2, in <module>\n",
      "  File \"/home/jovyan/2nd semester/PP Model/PerfectModel/API2.py\", line 516, in add_bullet_points\n",
      "    level = int(point_str[last_comma + 1:-1].strip())\n",
      "ValueError: invalid literal for int() with base 10: 'Satirical humor'\n",
      "Presentation saved as 'presentation.pptx'\n",
      "2025-02-08 14:57:01.985 Uncaught app execution\n",
      "Traceback (most recent call last):\n",
      "  File \"/opt/conda/lib/python3.10/site-packages/streamlit/runtime/scriptrunner/exec_code.py\", line 121, in exec_func_with_error_handling\n",
      "    result = func()\n",
      "  File \"/opt/conda/lib/python3.10/site-packages/streamlit/runtime/scriptrunner/script_runner.py\", line 591, in code_to_exec\n",
      "    exec(code, module.__dict__)\n",
      "  File \"/home/jovyan/2nd semester/PP Model/PerfectModel/interface.py\", line 345, in <module>\n",
      "    exec(tool_call_code)\n",
      "  File \"<string>\", line 2, in <module>\n",
      "  File \"/home/jovyan/2nd semester/PP Model/PerfectModel/API2.py\", line 516, in add_bullet_points\n",
      "    level = int(point_str[last_comma + 1:-1].strip())\n",
      "ValueError: invalid literal for int() with base 10: 'DC Comics'\n",
      "2025-02-08 14:57:08.095 Uncaught app execution\n",
      "Traceback (most recent call last):\n",
      "  File \"/opt/conda/lib/python3.10/site-packages/streamlit/runtime/scriptrunner/exec_code.py\", line 121, in exec_func_with_error_handling\n",
      "    result = func()\n",
      "  File \"/opt/conda/lib/python3.10/site-packages/streamlit/runtime/scriptrunner/script_runner.py\", line 591, in code_to_exec\n",
      "    exec(code, module.__dict__)\n",
      "  File \"/home/jovyan/2nd semester/PP Model/PerfectModel/interface.py\", line 345, in <module>\n",
      "    exec(tool_call_code)\n",
      "  File \"<string>\", line 1, in <module>\n",
      "  File \"/home/jovyan/2nd semester/PP Model/PerfectModel/API2.py\", line 516, in add_bullet_points\n",
      "    level = int(point_str[last_comma + 1:-1].strip())\n",
      "ValueError: invalid literal for int() with base 10: 'Spider-Man'\n",
      "Presentation saved as 'presentation.pptx'\n",
      "Presentation saved as 'presentation.pptx'\n",
      "Deleted presentation.pptx\n",
      "Error loading presentation: Package not found at 'presentation.pptx'\n",
      "Error loading presentation: Package not found at 'presentation.pptx'\n",
      "Error loading presentation: Package not found at 'presentation.pptx'\n",
      "Error loading presentation: Package not found at 'presentation.pptx'\n",
      "Presentation saved as 'presentation.pptx'\n",
      "Presentation saved as 'presentation.pptx'\n",
      "Presentation saved as 'presentation.pptx'\n",
      "Imagen generada con éxito.\n",
      "Presentation saved as 'presentation.pptx'\n",
      "Presentation saved as 'presentation.pptx'\n",
      "Presentation saved as 'presentation.pptx'\n",
      "Presentation saved as 'presentation.pptx'\n",
      "Presentation saved as 'presentation.pptx'\n",
      "Deleted presentation.pptx\n",
      "Error loading presentation: Package not found at 'presentation.pptx'\n",
      "Error loading presentation: Package not found at 'presentation.pptx'\n",
      "Error loading presentation: Package not found at 'presentation.pptx'\n",
      "Presentation saved as 'presentation.pptx'\n",
      "Imagen generada con éxito.\n",
      "Presentation saved as 'presentation.pptx'\n",
      "Presentation saved as 'presentation.pptx'\n",
      "Presentation saved as 'presentation.pptx'\n",
      "Presentation saved as 'presentation.pptx'\n",
      "Imagen generada con éxito.\n",
      "Presentation saved as 'presentation.pptx'\n",
      "Presentation saved as 'presentation.pptx'\n",
      "Presentation saved as 'presentation.pptx'\n",
      "Presentation saved as 'presentation.pptx'\n",
      "Presentation saved as 'presentation.pptx'\n",
      "Deleted presentation.pptx\n",
      "Error loading presentation: Package not found at 'presentation.pptx'\n",
      "Error loading presentation: Package not found at 'presentation.pptx'\n",
      "Presentation saved as 'presentation.pptx'\n",
      "Presentation saved as 'presentation.pptx'\n",
      "Presentation saved as 'presentation.pptx'\n",
      "Presentation saved as 'presentation.pptx'\n",
      "Presentation saved as 'presentation.pptx'\n",
      "Presentation saved as 'presentation.pptx'\n",
      "Imagen generada con éxito.\n",
      "Presentation saved as 'presentation.pptx'\n",
      "Presentation saved as 'presentation.pptx'\n",
      "Presentation saved as 'presentation.pptx'\n",
      "Presentation saved as 'presentation.pptx'\n",
      "Deleted presentation.pptx\n",
      "Error loading presentation: Package not found at 'presentation.pptx'\n",
      "Error loading presentation: Package not found at 'presentation.pptx'\n",
      "Error loading presentation: Package not found at 'presentation.pptx'\n",
      "Error loading presentation: Package not found at 'presentation.pptx'\n",
      "2025-02-08 16:50:50.440 Examining the path of torch.classes raised:\n",
      "Traceback (most recent call last):\n",
      "  File \"/opt/conda/lib/python3.10/site-packages/streamlit/watcher/local_sources_watcher.py\", line 217, in get_module_paths\n",
      "    potential_paths = extract_paths(module)\n",
      "  File \"/opt/conda/lib/python3.10/site-packages/streamlit/watcher/local_sources_watcher.py\", line 210, in <lambda>\n",
      "    lambda m: list(m.__path__._path),\n",
      "  File \"/opt/conda/lib/python3.10/site-packages/torch/_classes.py\", line 13, in __getattr__\n",
      "    proxy = torch._C._get_custom_class_python_wrapper(self.name, attr)\n",
      "RuntimeError: Tried to instantiate class '__path__._path', but it does not exist! Ensure that it is registered via torch::class_\n",
      "Error loading presentation: Package not found at 'presentation.pptx'\n",
      "Error loading presentation: Package not found at 'presentation.pptx'\n",
      "Presentation saved as 'presentation.pptx'\n",
      "Imagen generada con éxito.\n",
      "Presentation saved as 'presentation.pptx'\n",
      "Deleted presentation.pptx\n",
      "Error loading presentation: Package not found at 'presentation.pptx'\n"
     ]
    }
   ],
   "source": [
    "from IPython.display import display, Javascript\n",
    "\n",
    "# Ejecuta Streamlit en una nueva pestaña del navegador\n",
    "# display(Javascript(\"window.open('http://localhost:7860')\"))\n",
    "display(Javascript(f\"window.open('{public_url}')\"))\n",
    "!streamlit run interface.py --server.port 7860 \n"
   ]
  },
  {
   "cell_type": "code",
   "execution_count": null,
   "id": "7dbc034b-1920-4bb1-a2eb-5912cfcd4b7a",
   "metadata": {},
   "outputs": [],
   "source": [
    "# ! streamlit run interdace.py"
   ]
  },
  {
   "cell_type": "code",
   "execution_count": null,
   "id": "2c120fb7-ee61-4960-96d8-2c25f9d178e9",
   "metadata": {},
   "outputs": [],
   "source": []
  },
  {
   "cell_type": "code",
   "execution_count": null,
   "id": "1582e086-1179-4fce-9797-c995d749fea2",
   "metadata": {},
   "outputs": [],
   "source": [
    "\n"
   ]
  },
  {
   "cell_type": "code",
   "execution_count": null,
   "id": "2c22353d-4243-49d1-8d64-6618d28831e0",
   "metadata": {},
   "outputs": [],
   "source": []
  }
 ],
 "metadata": {
  "kernelspec": {
   "display_name": "Python 3 (ipykernel)",
   "language": "python",
   "name": "python3"
  },
  "language_info": {
   "codemirror_mode": {
    "name": "ipython",
    "version": 3
   },
   "file_extension": ".py",
   "mimetype": "text/x-python",
   "name": "python",
   "nbconvert_exporter": "python",
   "pygments_lexer": "ipython3",
   "version": "3.10.12"
  }
 },
 "nbformat": 4,
 "nbformat_minor": 5
}
