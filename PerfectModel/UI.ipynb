{
 "cells": [
  {
   "cell_type": "code",
   "execution_count": 1,
   "id": "132c5ff3-e1ac-4a38-849e-68eacb4cff8f",
   "metadata": {},
   "outputs": [
    {
     "name": "stdout",
     "output_type": "stream",
     "text": [
      "Directorio de trabajo actual: /home/jovyan/2nd semester/PP Model/PerfectModel\n"
     ]
    }
   ],
   "source": [
    "import os\n",
    "\n",
    "# Cambiar al nuevo directorio donde moviste los archivos\n",
    "new_path = \"/home/jovyan/2nd semester/PP Model/PerfectModel\"\n",
    "os.chdir(new_path)\n",
    "\n",
    "# # Verificar que el directorio se cambió correctamente\n",
    "print(\"Directorio de trabajo actual:\", os.getcwd())"
   ]
  },
  {
   "cell_type": "code",
   "execution_count": 2,
   "id": "3a928e94-0e8f-4dc8-a628-a9abbbc18b18",
   "metadata": {},
   "outputs": [],
   "source": [
    "!pip install reportlab pillow -q #used for the visualization of the PPfiles\n",
    "!pip install pdf2image -q #used to convert pdf to images\n"
   ]
  },
  {
   "cell_type": "code",
   "execution_count": 3,
   "id": "fc268f13-47dc-4352-bf7c-443597b27add",
   "metadata": {},
   "outputs": [
    {
     "name": "stdout",
     "output_type": "stream",
     "text": [
      "\u001b[31mERROR: pip's dependency resolver does not currently take into account all the packages that are installed. This behaviour is the source of the following dependency conflicts.\n",
      "torchaudio 2.1.0+cu118 requires torch==2.1.0, but you have torch 2.5.1 which is incompatible.\n",
      "torchvision 0.16.0+cu118 requires torch==2.1.0, but you have torch 2.5.1 which is incompatible.\u001b[0m\u001b[31m\n",
      "\u001b[0mFound existing installation: unsloth 2024.12.4\n",
      "Uninstalling unsloth-2024.12.4:\n",
      "  Successfully uninstalled unsloth-2024.12.4\n"
     ]
    }
   ],
   "source": [
    "!pip install unsloth -q\n",
    "# Also get the latest nightly Unsloth!\n",
    "!pip uninstall unsloth -y && pip install --upgrade --no-cache-dir --no-deps git+https://github.com/unslothai/unsloth.git -q"
   ]
  },
  {
   "cell_type": "code",
   "execution_count": 4,
   "id": "cbdf7d79-f46a-4574-9f3e-ce3e84d7b117",
   "metadata": {},
   "outputs": [
    {
     "name": "stdout",
     "output_type": "stream",
     "text": [
      "\n",
      "Usage:   \n",
      "  pip install [options] <requirement specifier> [package-index-options] ...\n",
      "  pip install [options] -r <requirements file> [package-index-options] ...\n",
      "  pip install [options] [-e] <vcs project url> ...\n",
      "  pip install [options] [-e] <local project path> ...\n",
      "  pip install [options] <archive url/path> ...\n",
      "\n",
      "no such option: -y\n",
      "\u001b[31mERROR: pip's dependency resolver does not currently take into account all the packages that are installed. This behaviour is the source of the following dependency conflicts.\n",
      "trl 0.12.2 requires transformers<4.47.0, but you have transformers 4.47.0 which is incompatible.\u001b[0m\u001b[31m\n",
      "\u001b[0m"
     ]
    }
   ],
   "source": [
    "!pip -q install huggingface_hub diffusers transformers -y \n",
    "!pip install --upgrade diffusers transformers accelerate -q"
   ]
  },
  {
   "cell_type": "code",
   "execution_count": 5,
   "id": "f84b352f-0a55-4757-96ac-a906b0291b31",
   "metadata": {},
   "outputs": [],
   "source": [
    "!pip install streamlit -q\n",
    "!pip install ipython -q\n",
    "!pip install streamlit python-pptx -q\n",
    "!pip install pyngrok -q"
   ]
  },
  {
   "cell_type": "code",
   "execution_count": 6,
   "id": "767c3c08-365f-4af1-be35-d18940314817",
   "metadata": {},
   "outputs": [
    {
     "name": "stdout",
     "output_type": "stream",
     "text": [
      "La API es accesible públicamente en: NgrokTunnel: \"https://d07e-194-95-61-252.ngrok-free.app\" -> \"http://localhost:7860\"\n"
     ]
    }
   ],
   "source": [
    "\n",
    "from pyngrok import ngrok\n",
    "\n",
    "# Crear un túnel HTTP\n",
    "public_url = ngrok.connect(7860)\n",
    "print(f\"La API es accesible públicamente en: {public_url}\")"
   ]
  },
  {
   "cell_type": "code",
   "execution_count": 7,
   "id": "780efe1c-1a10-4835-ab1d-164025c31f35",
   "metadata": {},
   "outputs": [],
   "source": [
    "# !ngrok http 7860\n"
   ]
  },
  {
   "cell_type": "code",
   "execution_count": 8,
   "id": "6dce41e1-ad97-4459-b781-2f4d116a67c8",
   "metadata": {},
   "outputs": [
    {
     "name": "stderr",
     "output_type": "stream",
     "text": [
      "2024-12-07 15:59:58.879 WARNING streamlit.runtime.scriptrunner_utils.script_run_context: Thread 'MainThread': missing ScriptRunContext! This warning can be ignored when running in bare mode.\n",
      "2024-12-07 15:59:58.880 WARNING streamlit.runtime.scriptrunner_utils.script_run_context: Thread 'MainThread': missing ScriptRunContext! This warning can be ignored when running in bare mode.\n",
      "2024-12-07 15:59:58.956 \n",
      "  \u001b[33m\u001b[1mWarning:\u001b[0m to view this Streamlit app on a browser, run it with the following\n",
      "  command:\n",
      "\n",
      "    streamlit run /opt/conda/lib/python3.10/site-packages/ipykernel_launcher.py [ARGUMENTS]\n",
      "2024-12-07 15:59:58.957 Thread 'MainThread': missing ScriptRunContext! This warning can be ignored when running in bare mode.\n",
      "2024-12-07 15:59:58.957 Thread 'MainThread': missing ScriptRunContext! This warning can be ignored when running in bare mode.\n",
      "2024-12-07 15:59:58.958 Thread 'MainThread': missing ScriptRunContext! This warning can be ignored when running in bare mode.\n",
      "/opt/conda/lib/python3.10/site-packages/torchvision/io/image.py:13: UserWarning: Failed to load image Python extension: '/opt/conda/lib/python3.10/site-packages/torchvision/image.so: undefined symbol: _ZN3c1017RegisterOperatorsD1Ev'If you don't plan on using image functionality from `torchvision.io`, you can ignore this warning. Otherwise, there might be something wrong with your environment. Did you have `libjpeg` or `libpng` installed before building `torchvision` from source?\n",
      "  warn(\n"
     ]
    },
    {
     "data": {
      "application/vnd.jupyter.widget-view+json": {
       "model_id": "2aa540f13af546e895877a2bde7bd655",
       "version_major": 2,
       "version_minor": 0
      },
      "text/plain": [
       "Loading pipeline components...:   0%|          | 0/7 [00:00<?, ?it/s]"
      ]
     },
     "metadata": {},
     "output_type": "display_data"
    },
    {
     "name": "stderr",
     "output_type": "stream",
     "text": [
      "2024-12-07 16:00:23.383 Thread 'MainThread': missing ScriptRunContext! This warning can be ignored when running in bare mode.\n",
      "2024-12-07 16:00:23.385 Thread 'MainThread': missing ScriptRunContext! This warning can be ignored when running in bare mode.\n",
      "Unused kwargs: ['_load_in_4bit', '_load_in_8bit', 'quant_method']. These kwargs are not used in <class 'transformers.utils.quantization_config.BitsAndBytesConfig'>.\n",
      "2024-12-07 16:00:40.183 Thread 'MainThread': missing ScriptRunContext! This warning can be ignored when running in bare mode.\n",
      "2024-12-07 16:00:40.185 Thread 'MainThread': missing ScriptRunContext! This warning can be ignored when running in bare mode.\n",
      "2024-12-07 16:00:40.185 Thread 'MainThread': missing ScriptRunContext! This warning can be ignored when running in bare mode.\n",
      "2024-12-07 16:00:40.185 Thread 'MainThread': missing ScriptRunContext! This warning can be ignored when running in bare mode.\n",
      "2024-12-07 16:00:40.186 Session state does not function when running a script without `streamlit run`\n",
      "2024-12-07 16:00:40.186 Thread 'MainThread': missing ScriptRunContext! This warning can be ignored when running in bare mode.\n",
      "2024-12-07 16:00:40.187 Thread 'MainThread': missing ScriptRunContext! This warning can be ignored when running in bare mode.\n",
      "2024-12-07 16:00:40.187 Thread 'MainThread': missing ScriptRunContext! This warning can be ignored when running in bare mode.\n",
      "2024-12-07 16:00:40.187 Thread 'MainThread': missing ScriptRunContext! This warning can be ignored when running in bare mode.\n",
      "2024-12-07 16:00:40.188 Thread 'MainThread': missing ScriptRunContext! This warning can be ignored when running in bare mode.\n",
      "2024-12-07 16:00:40.188 Thread 'MainThread': missing ScriptRunContext! This warning can be ignored when running in bare mode.\n",
      "2024-12-07 16:00:40.188 Thread 'MainThread': missing ScriptRunContext! This warning can be ignored when running in bare mode.\n"
     ]
    }
   ],
   "source": [
    "import streamlit as st\n",
    "import os\n",
    "\n",
    "# Establece el directorio de trabajo actual\n",
    "# Ejecuta la aplicación Streamlit\n",
    "st.set_page_config(page_title=\"Interfaz Gráfica Sencilla\")\n",
    "st.write(\"Loading app...\")\n",
    "exec(open(\"interface.py\").read())\n",
    "# exec(open(\"interface.py\").read())\n"
   ]
  },
  {
   "cell_type": "code",
   "execution_count": null,
   "id": "7e66680b-6dbd-4cd6-bfce-c20cab4c8422",
   "metadata": {},
   "outputs": [
    {
     "data": {
      "application/javascript": [
       "window.open('NgrokTunnel: \"https://d07e-194-95-61-252.ngrok-free.app\" -> \"http://localhost:7860\"')"
      ],
      "text/plain": [
       "<IPython.core.display.Javascript object>"
      ]
     },
     "metadata": {},
     "output_type": "display_data"
    },
    {
     "name": "stdout",
     "output_type": "stream",
     "text": [
      "\n",
      "Collecting usage statistics. To deactivate, set browser.gatherUsageStats to false.\n",
      "\u001b[0m\n",
      "\u001b[0m\n",
      "\u001b[34m\u001b[1m  You can now view your Streamlit app in your browser.\u001b[0m\n",
      "\u001b[0m\n",
      "\u001b[34m  Local URL: \u001b[0m\u001b[1mhttp://localhost:7860\u001b[0m\n",
      "\u001b[34m  Network URL: \u001b[0m\u001b[1mhttp://10.211.15.251:7860\u001b[0m\n",
      "\u001b[34m  External URL: \u001b[0m\u001b[1mhttp://194.95.61.252:7860\u001b[0m\n",
      "\u001b[0m\n",
      "/opt/conda/lib/python3.10/site-packages/torchvision/io/image.py:13: UserWarning: Failed to load image Python extension: '/opt/conda/lib/python3.10/site-packages/torchvision/image.so: undefined symbol: _ZN3c1017RegisterOperatorsD1Ev'If you don't plan on using image functionality from `torchvision.io`, you can ignore this warning. Otherwise, there might be something wrong with your environment. Did you have `libjpeg` or `libpng` installed before building `torchvision` from source?\n",
      "  warn(\n",
      "Loading pipeline components...: 100%|█████████████| 7/7 [00:15<00:00,  2.27s/it]\n",
      "Unused kwargs: ['_load_in_4bit', '_load_in_8bit', 'quant_method']. These kwargs are not used in <class 'transformers.utils.quantization_config.BitsAndBytesConfig'>.\n",
      "2024-12-07 16:01:58.576 Examining the path of torch.classes raised: Tried to instantiate class '__path__._path', but it does not exist! Ensure that it is registered via torch::class_\n",
      "Unused kwargs: ['_load_in_4bit', '_load_in_8bit', 'quant_method']. These kwargs are not used in <class 'transformers.utils.quantization_config.BitsAndBytesConfig'>.\n",
      "Unused kwargs: ['_load_in_4bit', '_load_in_8bit', 'quant_method']. These kwargs are not used in <class 'transformers.utils.quantization_config.BitsAndBytesConfig'>.\n",
      "Presentation saved as 'presentation.pptx'\n",
      "100%|█████████████████████████████████████████| 100/100 [00:05<00:00, 19.63it/s]\n",
      "image generated: generated_image.png\n",
      "Presentation saved as 'presentation.pptx'\n",
      "2024-12-07 16:02:18.809 Examining the path of torch.classes raised: Tried to instantiate class '__path__._path', but it does not exist! Ensure that it is registered via torch::class_\n",
      "Loading pipeline components...: 100%|█████████████| 7/7 [00:15<00:00,  2.26s/it]\n",
      "Unused kwargs: ['_load_in_4bit', '_load_in_8bit', 'quant_method']. These kwargs are not used in <class 'transformers.utils.quantization_config.BitsAndBytesConfig'>.\n",
      "Unused kwargs: ['_load_in_4bit', '_load_in_8bit', 'quant_method']. These kwargs are not used in <class 'transformers.utils.quantization_config.BitsAndBytesConfig'>.\n",
      "Unused kwargs: ['_load_in_4bit', '_load_in_8bit', 'quant_method']. These kwargs are not used in <class 'transformers.utils.quantization_config.BitsAndBytesConfig'>.\n",
      "Presentation saved as 'presentation.pptx'\n",
      "100%|█████████████████████████████████████████| 100/100 [00:04<00:00, 20.34it/s]\n",
      "image generated: generated_image.png\n",
      "Presentation saved as 'presentation.pptx'\n",
      "2024-12-07 16:04:59.558 The `use_column_width` parameter has been deprecated and will be removed in a future release. Please utilize the `use_container_width` parameter instead.\n",
      "2024-12-07 16:04:59.569 The `use_column_width` parameter has been deprecated and will be removed in a future release. Please utilize the `use_container_width` parameter instead.\n",
      "2024-12-07 16:04:59.578 The `use_column_width` parameter has been deprecated and will be removed in a future release. Please utilize the `use_container_width` parameter instead.\n",
      "2024-12-07 16:04:59.588 The `use_column_width` parameter has been deprecated and will be removed in a future release. Please utilize the `use_container_width` parameter instead.\n"
     ]
    }
   ],
   "source": [
    "from IPython.display import display, Javascript\n",
    "\n",
    "# Ejecuta Streamlit en una nueva pestaña del navegador\n",
    "# display(Javascript(\"window.open('http://localhost:7860')\"))\n",
    "display(Javascript(f\"window.open('{public_url}')\"))\n",
    "!streamlit run interface.py --server.port 7860 \n"
   ]
  },
  {
   "cell_type": "code",
   "execution_count": null,
   "id": "7dbc034b-1920-4bb1-a2eb-5912cfcd4b7a",
   "metadata": {},
   "outputs": [],
   "source": [
    "# ! streamlit run interdace.py"
   ]
  },
  {
   "cell_type": "code",
   "execution_count": null,
   "id": "a95c51f2-afa5-4089-9043-adc31d60a30a",
   "metadata": {},
   "outputs": [],
   "source": []
  },
  {
   "cell_type": "code",
   "execution_count": null,
   "id": "2c120fb7-ee61-4960-96d8-2c25f9d178e9",
   "metadata": {},
   "outputs": [],
   "source": []
  },
  {
   "cell_type": "code",
   "execution_count": null,
   "id": "1582e086-1179-4fce-9797-c995d749fea2",
   "metadata": {},
   "outputs": [],
   "source": [
    "\n"
   ]
  },
  {
   "cell_type": "code",
   "execution_count": null,
   "id": "2c22353d-4243-49d1-8d64-6618d28831e0",
   "metadata": {},
   "outputs": [],
   "source": []
  }
 ],
 "metadata": {
  "kernelspec": {
   "display_name": "Python 3 (ipykernel)",
   "language": "python",
   "name": "python3"
  },
  "language_info": {
   "codemirror_mode": {
    "name": "ipython",
    "version": 3
   },
   "file_extension": ".py",
   "mimetype": "text/x-python",
   "name": "python",
   "nbconvert_exporter": "python",
   "pygments_lexer": "ipython3",
   "version": "3.10.12"
  }
 },
 "nbformat": 4,
 "nbformat_minor": 5
}
