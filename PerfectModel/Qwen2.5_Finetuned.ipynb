{
 "cells": [
  {
   "cell_type": "code",
   "execution_count": 1,
   "id": "08262eb1-6842-4d52-b751-8861e18bcdf8",
   "metadata": {},
   "outputs": [
    {
     "name": "stdout",
     "output_type": "stream",
     "text": [
      "Found existing installation: unsloth 2024.11.10\n",
      "Uninstalling unsloth-2024.11.10:\n",
      "  Successfully uninstalled unsloth-2024.11.10\n"
     ]
    }
   ],
   "source": [
    "!pip install unsloth -q\n",
    "# Also get the latest nightly Unsloth!\n",
    "!pip uninstall unsloth -y && pip install --upgrade --no-cache-dir --no-deps git+https://github.com/unslothai/unsloth.git -q"
   ]
  },
  {
   "cell_type": "code",
   "execution_count": 2,
   "id": "da5d0564-9a7b-4a06-85e0-49daeb423401",
   "metadata": {},
   "outputs": [
    {
     "name": "stderr",
     "output_type": "stream",
     "text": [
      "/opt/conda/lib/python3.10/site-packages/torchvision/io/image.py:13: UserWarning: Failed to load image Python extension: '/opt/conda/lib/python3.10/site-packages/torchvision/image.so: undefined symbol: _ZN3c1017RegisterOperatorsD1Ev'If you don't plan on using image functionality from `torchvision.io`, you can ignore this warning. Otherwise, there might be something wrong with your environment. Did you have `libjpeg` or `libpng` installed before building `torchvision` from source?\n",
      "  warn(\n",
      "Unused kwargs: ['_load_in_4bit', '_load_in_8bit', 'quant_method']. These kwargs are not used in <class 'transformers.utils.quantization_config.BitsAndBytesConfig'>.\n"
     ]
    }
   ],
   "source": [
    "from transformers import AutoModelForCausalLM, AutoTokenizer\n",
    "\n",
    "def load_model(model_path):\n",
    "    # Cargar el modelo y el tokenizer\n",
    "    model = AutoModelForCausalLM.from_pretrained(\n",
    "        model_path,\n",
    "        device_map=\"auto\",  # Esto distribuirá el modelo en las GPUs disponibles\n",
    "        trust_remote_code=True,\n",
    "        torch_dtype=\"auto\"\n",
    "    )\n",
    "    tokenizer = AutoTokenizer.from_pretrained(\n",
    "        model_path,\n",
    "        trust_remote_code=True\n",
    "    )\n",
    "    return model, tokenizer\n",
    "\n",
    "# Ejemplo de uso del modelo cargado\n",
    "def generate_response(instruction, model, tokenizer, max_length=512):\n",
    "    # Formatear el input con los tokens correctos\n",
    "    prompt = f\"<|im_start|>human\\n{instruction}<|im_end|>\\n<|im_start|>assistant\\n\"\n",
    "    \n",
    "    # Tokenizar el input\n",
    "    inputs = tokenizer(prompt, return_tensors=\"pt\").to(model.device)\n",
    "    \n",
    "    # Generar la respuesta\n",
    "    outputs = model.generate(\n",
    "        **inputs,\n",
    "        max_length=max_length,\n",
    "        pad_token_id=tokenizer.pad_token_id,\n",
    "        temperature=0.7,\n",
    "        do_sample=True,\n",
    "        top_p=0.95,\n",
    "    )\n",
    "    \n",
    "    # Decodificar la respuesta\n",
    "    response = tokenizer.decode(outputs[0], skip_special_tokens=False)\n",
    "    \n",
    "    return response\n",
    "\n",
    "# Ejemplo de cómo usar el modelo guardado\n",
    "\n",
    "# Cargar el modelo\n",
    "\n",
    "#model_path = \"/home/jovyan/2nd semester/PP Model/Qwen2.5_Finetuned-AWQ\"\n",
    "model_path = \"/home/jovyan/2nd semester/PP Model/Qwen2.5_Finetuned2.0\"\n",
    "# model_path = \"/home/jovyan/2nd semester/PP Model/Qwen2.5_Finetuned\"\n",
    "loaded_model, loaded_tokenizer = load_model(model_path)\n",
    "\n",
    "# Hacer una predicción\n",
    "\n"
   ]
  },
  {
   "cell_type": "code",
   "execution_count": 3,
   "id": "14a98de3-f94b-45fb-bc70-349af307b761",
   "metadata": {},
   "outputs": [
    {
     "name": "stdout",
     "output_type": "stream",
     "text": [
      "<|im_start|>human\n",
      "create a presentation about music<|im_end|>\n",
      "<|im_start|>assistant\n",
      "I'll help you with that.\n",
      "\n",
      "<tool_call>\n",
      "api.create_slide(layout='title', title='The Power of Music')\n",
      "</tool_call><|im_end|>\n"
     ]
    }
   ],
   "source": [
    "instruction = \"create a presentation about music\"\n",
    "response = generate_response(instruction, loaded_model, loaded_tokenizer)\n",
    "print(response)"
   ]
  },
  {
   "cell_type": "code",
   "execution_count": null,
   "id": "cda2b13f-5cf3-4536-9410-ada2240f924f",
   "metadata": {},
   "outputs": [],
   "source": []
  }
 ],
 "metadata": {
  "kernelspec": {
   "display_name": "Python 3 (ipykernel)",
   "language": "python",
   "name": "python3"
  },
  "language_info": {
   "codemirror_mode": {
    "name": "ipython",
    "version": 3
   },
   "file_extension": ".py",
   "mimetype": "text/x-python",
   "name": "python",
   "nbconvert_exporter": "python",
   "pygments_lexer": "ipython3",
   "version": "3.10.12"
  }
 },
 "nbformat": 4,
 "nbformat_minor": 5
}
