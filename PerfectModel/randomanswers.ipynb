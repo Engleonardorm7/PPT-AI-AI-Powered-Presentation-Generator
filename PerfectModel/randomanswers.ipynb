{
 "cells": [
  {
   "cell_type": "code",
   "execution_count": 1,
   "id": "dde09550-055f-4e07-bddd-80cf82efe86d",
   "metadata": {},
   "outputs": [
    {
     "name": "stdout",
     "output_type": "stream",
     "text": [
      "Dataset updated successfully!\n"
     ]
    }
   ],
   "source": [
    "import random\n",
    "import json\n",
    "\n",
    "# Lista ampliada de respuestas variadas\n",
    "responses = [\n",
    "    \"I'll help you with that.\",\n",
    "    \"Sure, let me assist you with that.\",\n",
    "    \"I'd be happy to help with that.\",\n",
    "    \"Let's get started with that.\",\n",
    "    \"Got it, working on that now.\",\n",
    "    \"Here's how I can assist you.\",\n",
    "    \"Absolutely, let me take care of that.\",\n",
    "    \"Right away, let me help you with that.\",\n",
    "    \"Certainly, I'm here to assist you.\",\n",
    "    \"No problem, I'll handle that for you.\",\n",
    "    \"Let me work on that for you.\",\n",
    "    \"I'll get that done for you in no time.\",\n",
    "    \"Got it! Let me take care of this.\",\n",
    "    \"Understood, working on it now.\",\n",
    "    \"I'm on it, let me assist.\",\n",
    "    \"Of course! I'll get started immediately.\",\n",
    "    \"Alright, let me address that for you.\",\n",
    "    \"Happy to help, let me handle this.\",\n",
    "    \"On it! Let me take a closer look.\",\n",
    "    \"Sure thing, let me sort this out for you.\"\n",
    "]\n",
    "\n",
    "# Selecciona una respuesta aleatoria\n",
    "def get_random_response():\n",
    "    return random.choice(responses)\n",
    "\n",
    "# Ruta del archivo JSON\n",
    "dataset_path = \"formatted_data.json\"\n",
    "\n",
    "# Leer el dataset\n",
    "with open(dataset_path, \"r\") as file:\n",
    "    data = json.load(file)\n",
    "\n",
    "# Modificar las respuestas en el dataset\n",
    "for conversation in data[\"conversations\"]:\n",
    "    if \"<|im_start|>assistant\" in conversation[\"text\"]:\n",
    "        parts = conversation[\"text\"].split(\"<tool_call>\")\n",
    "        response = get_random_response()\n",
    "        # Cambiar la respuesta antes de \"<tool_call>\"\n",
    "        parts[0] = parts[0].split(\"<|im_start|>assistant\\n\")[0] + \"<|im_start|>assistant\\n\" + response + \"\\n\\n\"\n",
    "        # Reconstruir el texto modificado\n",
    "        conversation[\"text\"] = \"<tool_call>\".join(parts)\n",
    "\n",
    "# Guardar el dataset modificado\n",
    "with open(dataset_path, \"w\") as file:\n",
    "    json.dump(data, file, indent=4)\n",
    "\n",
    "print(\"Dataset updated successfully!\")\n"
   ]
  },
  {
   "cell_type": "code",
   "execution_count": null,
   "id": "16feda82-f329-437a-a371-376d6502f253",
   "metadata": {},
   "outputs": [],
   "source": []
  }
 ],
 "metadata": {
  "kernelspec": {
   "display_name": "Python 3 (ipykernel)",
   "language": "python",
   "name": "python3"
  },
  "language_info": {
   "codemirror_mode": {
    "name": "ipython",
    "version": 3
   },
   "file_extension": ".py",
   "mimetype": "text/x-python",
   "name": "python",
   "nbconvert_exporter": "python",
   "pygments_lexer": "ipython3",
   "version": "3.10.12"
  }
 },
 "nbformat": 4,
 "nbformat_minor": 5
}
